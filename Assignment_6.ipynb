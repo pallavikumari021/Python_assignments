{
 "cells": [
  {
   "cell_type": "markdown",
   "id": "a41b2d3e",
   "metadata": {},
   "source": [
    "1. What are escape characters, and how do you use them?\n",
    "An escape character is a backslash \\ followed by the character you want to insert."
   ]
  },
  {
   "cell_type": "markdown",
   "id": "ba163548",
   "metadata": {},
   "source": [
    "2. What do the escape characters n and t stand for?\n",
    "\\n stands for 'newline' and \\t stands for 'tab'."
   ]
  },
  {
   "cell_type": "markdown",
   "id": "f66c63f8",
   "metadata": {},
   "source": [
    "3. What is the way to include backslash characters in a string?\n",
    "The \\ escape character will represent a backslash character."
   ]
  },
  {
   "cell_type": "markdown",
   "id": "6df9d960",
   "metadata": {},
   "source": [
    "4. The string \"Howl's Moving Castle\" is a correct value. Why isn't the single quote character in the word Howl's not escaped a problem?\n",
    "Because we have used \"\" in the beginning and the end of the string."
   ]
  },
  {
   "cell_type": "markdown",
   "id": "33b2ba1e",
   "metadata": {},
   "source": [
    "5. How do you write a string of newlines if you don't want to use the n character?\n",
    "We can use end parameter."
   ]
  },
  {
   "cell_type": "markdown",
   "id": "cfe75934",
   "metadata": {},
   "source": [
    "6. What are the values of the given expressions?\n",
    "'Hello, world!'[1]\n",
    "'Hello, world!'[0:5]\n",
    "'Hello, world!'[:5]\n",
    "'Hello, world!'[3:]\n",
    "Ans. 'e'\n",
    "     'Hello'\n",
    "     'Hello'\n",
    "     'lo, world!'"
   ]
  },
  {
   "cell_type": "markdown",
   "id": "8203d358",
   "metadata": {},
   "source": [
    "7. What are the values of the following expressions?\n",
    "'Hello'.upper()\n",
    "'Hello'.upper().isupper()\n",
    "'Hello'.upper().lower()\n",
    "Ans. 'HELLO'\n",
    "      True\n",
    "      'hello'"
   ]
  },
  {
   "cell_type": "markdown",
   "id": "77b0efe0",
   "metadata": {},
   "source": [
    "8. What are the values of the following expressions?\n",
    "'Remember, remember, the fifth of July.'.split()\n",
    "'-'.join('There can only one.'.split())\n",
    "\n",
    "['Remember,', 'remember,', 'the', 'fifth', 'of', 'July.']\n",
    "'There-can-only-one.'"
   ]
  },
  {
   "cell_type": "markdown",
   "id": "f7357580",
   "metadata": {},
   "source": [
    "9. What are the methods for right-justifying, left-justifying, and centering a string?\n",
    "rjust(), ljust() and center()."
   ]
  },
  {
   "cell_type": "markdown",
   "id": "5b8bb817",
   "metadata": {},
   "source": [
    "10. What is the best way to remove whitespace characters from the start or end?\n",
    "The lstrip() and rstrip() methods remove whitespace from the left and right ends of a string."
   ]
  }
 ],
 "metadata": {
  "kernelspec": {
   "display_name": "Python 3 (ipykernel)",
   "language": "python",
   "name": "python3"
  },
  "language_info": {
   "codemirror_mode": {
    "name": "ipython",
    "version": 3
   },
   "file_extension": ".py",
   "mimetype": "text/x-python",
   "name": "python",
   "nbconvert_exporter": "python",
   "pygments_lexer": "ipython3",
   "version": "3.10.9"
  }
 },
 "nbformat": 4,
 "nbformat_minor": 5
}
