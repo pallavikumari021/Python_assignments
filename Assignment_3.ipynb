{
 "cells": [
  {
   "cell_type": "markdown",
   "id": "497bf223",
   "metadata": {},
   "source": [
    "1. Why are functions advantageous to have in your programs?\n",
    "Ans. Function are useful for our program as we have to defined it in 1 place and we can call it anywhere in our program. It prevents user from defining same line of code in multiple places in single program. By calling the function we can use it and get the same result."
   ]
  },
  {
   "cell_type": "markdown",
   "id": "17f783ae",
   "metadata": {},
   "source": [
    "2. When does the code in a function run: when it's specified or when it's called?\n",
    "The code in a function run when it's called."
   ]
  },
  {
   "cell_type": "markdown",
   "id": "39e8d329",
   "metadata": {},
   "source": [
    "3. What statement creates a function?\n",
    "The def statement defines creates a function."
   ]
  },
  {
   "cell_type": "markdown",
   "id": "d39d8f31",
   "metadata": {},
   "source": [
    "4. What is the difference between a function and a function call?\n",
    "A function is a block of code that performs a specific task and a function call is an expression that invokes a function and executes the code in the function."
   ]
  },
  {
   "cell_type": "markdown",
   "id": "92d17785",
   "metadata": {},
   "source": [
    "5. How many global scopes are there in a Python program? How many local scopes?\n",
    "Python scopes—local, enclosing, global, and built-in—depending on where you are in the code. On the other hand, you'll always have at least two active scopes, which are the global and built-in scopes."
   ]
  },
  {
   "cell_type": "markdown",
   "id": "ca1439c2",
   "metadata": {},
   "source": [
    "6. What happens to variables in a local scope when the function call returns?\n",
    "When the function call return then the local variable are destroyed."
   ]
  },
  {
   "cell_type": "markdown",
   "id": "8f32ad3a",
   "metadata": {},
   "source": [
    "7. What is the concept of a return value? Is it possible to have a return value in an expression?\n",
    "A return is a value that function returns to the calling script or function when it completes its task. A return value can be any one of the data types: integer, object, or string. \n",
    "No, an expression cannot have return value. "
   ]
  },
  {
   "cell_type": "markdown",
   "id": "68cce536",
   "metadata": {},
   "source": [
    "8. If a function does not have a return statement, what is the return value of a call to that function?\n",
    "If no return statement appears in a function definition, control automatically returns to the calling function after the last statement of the called function is executed. In this case, the return value of the called function is undefined."
   ]
  },
  {
   "cell_type": "markdown",
   "id": "d0219486",
   "metadata": {},
   "source": [
    "9. How do you make a function variable refer to the global variable?\n",
    "We can used global keyword with the variable. "
   ]
  },
  {
   "cell_type": "markdown",
   "id": "55eaa4d0",
   "metadata": {},
   "source": [
    "10. What is the data type of None?\n",
    "None is used to define a null value or Null object in Python. It is not the same as an empty string, a False, or a zero. It is a data type of the class NoneType object."
   ]
  },
  {
   "cell_type": "markdown",
   "id": "faff3e8e",
   "metadata": {},
   "source": [
    "11. What does the sentence import areallyourpetsnamederic do?\n",
    "The import statement imports a module named areallyourpetsnamederic."
   ]
  },
  {
   "cell_type": "markdown",
   "id": "bad586e9",
   "metadata": {},
   "source": [
    "12. If you had a bacon() feature in a spam module, what would you call it after importing spam?\n",
    "This function can be called with spam.bacon()."
   ]
  },
  {
   "cell_type": "markdown",
   "id": "7aa65f7f",
   "metadata": {},
   "source": [
    "13. What can you do to save a programme from crashing if it encounters an error?\n",
    "We can save the programme exceptions using try-except blocks."
   ]
  },
  {
   "cell_type": "markdown",
   "id": "acc034f8",
   "metadata": {},
   "source": [
    "14. What is the purpose of the try clause? What is the purpose of the except clause?\n",
    "The try block lets you test a block of code for errors. The except block lets you handle the error. "
   ]
  }
 ],
 "metadata": {
  "kernelspec": {
   "display_name": "Python 3 (ipykernel)",
   "language": "python",
   "name": "python3"
  },
  "language_info": {
   "codemirror_mode": {
    "name": "ipython",
    "version": 3
   },
   "file_extension": ".py",
   "mimetype": "text/x-python",
   "name": "python",
   "nbconvert_exporter": "python",
   "pygments_lexer": "ipython3",
   "version": "3.10.9"
  }
 },
 "nbformat": 4,
 "nbformat_minor": 5
}
