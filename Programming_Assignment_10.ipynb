{
 "cells": [
  {
   "cell_type": "markdown",
   "id": "f9479c00",
   "metadata": {},
   "source": [
    "1. Write a Python program to find sum of elements in list?"
   ]
  },
  {
   "cell_type": "code",
   "execution_count": 3,
   "id": "79a6c45d",
   "metadata": {},
   "outputs": [
    {
     "name": "stdout",
     "output_type": "stream",
     "text": [
      "19\n"
     ]
    }
   ],
   "source": [
    "lst1 = []\n",
    "lst= [1, 3, 4, 5, 6]\n",
    "sum =0\n",
    "for i in lst:\n",
    "    sum+=i\n",
    "print(sum)"
   ]
  },
  {
   "cell_type": "markdown",
   "id": "1bb8f43c",
   "metadata": {},
   "source": [
    "2. Write a Python program to Multiply all numbers in the list?"
   ]
  },
  {
   "cell_type": "code",
   "execution_count": 6,
   "id": "96e19f95",
   "metadata": {},
   "outputs": [
    {
     "name": "stdout",
     "output_type": "stream",
     "text": [
      "Enter the length in list: 2\n",
      "3\n",
      "4\n",
      "12\n"
     ]
    }
   ],
   "source": [
    "n = int(input(\"Enter the length in list: \"))\n",
    "lst = []\n",
    "Product = 1\n",
    "for i in range(n):\n",
    "    lst.append(int(input()))\n",
    "for j in lst:\n",
    "    Product = Product * j\n",
    "print(Product)"
   ]
  },
  {
   "cell_type": "markdown",
   "id": "2e91d46a",
   "metadata": {},
   "source": [
    "3. Write a Python program to find smallest number in a list?"
   ]
  },
  {
   "cell_type": "code",
   "execution_count": 3,
   "id": "48a47c54",
   "metadata": {},
   "outputs": [
    {
     "name": "stdout",
     "output_type": "stream",
     "text": [
      "Enter the length in list: 3\n",
      "3\n",
      "4\n",
      "5\n",
      "Smallest in the list is 3\n"
     ]
    }
   ],
   "source": [
    "n = int(input(\"Enter the length in list: \"))\n",
    "lst = []\n",
    "\n",
    "for i in range(n):\n",
    "    lst.append(int(input()))\n",
    "print(\"Smallest in the list is\", min(lst))"
   ]
  },
  {
   "cell_type": "markdown",
   "id": "48733d0c",
   "metadata": {},
   "source": [
    "4. Write a Python program to find largest number in a list?"
   ]
  },
  {
   "cell_type": "code",
   "execution_count": 4,
   "id": "62336d6e",
   "metadata": {},
   "outputs": [
    {
     "name": "stdout",
     "output_type": "stream",
     "text": [
      "Enter the length in list: 3\n",
      "4\n",
      "5\n",
      "6\n",
      "largest in the list is 6\n"
     ]
    }
   ],
   "source": [
    "n = int(input(\"Enter the length in list: \"))\n",
    "lst = []\n",
    "\n",
    "for i in range(n):\n",
    "    lst.append(int(input()))\n",
    "print(\"largest in the list is\", max(lst))"
   ]
  },
  {
   "cell_type": "markdown",
   "id": "76642627",
   "metadata": {},
   "source": [
    "5. Write a Python program to find second largest number in a list?"
   ]
  },
  {
   "cell_type": "code",
   "execution_count": 1,
   "id": "fe86d039",
   "metadata": {},
   "outputs": [
    {
     "name": "stdout",
     "output_type": "stream",
     "text": [
      "Enter the length in list: 4\n",
      "1\n",
      "2\n",
      "3\n",
      "4\n",
      "largest in the list is 3\n"
     ]
    }
   ],
   "source": [
    "n = int(input(\"Enter the length in list: \"))\n",
    "lst = []\n",
    "\n",
    "for i in range(n):\n",
    "    lst.append(int(input()))\n",
    "lst.sort()\n",
    "print(\"largest in the list is\", lst[-2])"
   ]
  },
  {
   "cell_type": "markdown",
   "id": "efcb97ec",
   "metadata": {},
   "source": [
    "6. Write a Python program to find N largest elements from a list?"
   ]
  },
  {
   "cell_type": "code",
   "execution_count": 6,
   "id": "f593b19b",
   "metadata": {},
   "outputs": [
    {
     "name": "stdout",
     "output_type": "stream",
     "text": [
      "Enter the length in list: 4\n",
      "Enter the Nth integer: 2\n",
      "3\n",
      "4\n",
      "5\n",
      "6\n",
      "largest in the list is [5, 6]\n"
     ]
    }
   ],
   "source": [
    "n = int(input(\"Enter the length in list: \"))\n",
    "lst = []\n",
    "N = int(input(\"Enter the Nth integer: \"))\n",
    "\n",
    "for i in range(n):\n",
    "    lst.append(int(input()))\n",
    "lst.sort()\n",
    "if N > n:\n",
    "     print(\"enterted value is larger then that list length\")\n",
    "else:\n",
    "    print(\"largest in the list is\", lst[(n-N):])"
   ]
  },
  {
   "cell_type": "markdown",
   "id": "2aa9ce6b",
   "metadata": {},
   "source": [
    "7. Write a Python program to print even numbers in a list?"
   ]
  },
  {
   "cell_type": "code",
   "execution_count": 8,
   "id": "589e7673",
   "metadata": {},
   "outputs": [
    {
     "name": "stdout",
     "output_type": "stream",
     "text": [
      "Enter the length in list: 4\n",
      "4\n",
      "5\n",
      "6\n",
      "7\n",
      "[4, 6]\n"
     ]
    }
   ],
   "source": [
    "n = int(input(\"Enter the length in list: \"))\n",
    "lst = []\n",
    "lst1 =[]\n",
    "\n",
    "for i in range(n):\n",
    "    lst.append(int(input()))\n",
    "for j in lst:\n",
    "    if j % 2 == 0:\n",
    "        lst1.append(j)\n",
    "print(lst1)"
   ]
  },
  {
   "cell_type": "markdown",
   "id": "b77a9231",
   "metadata": {},
   "source": [
    "8. Write a Python program to print odd numbers in a List?"
   ]
  },
  {
   "cell_type": "code",
   "execution_count": 9,
   "id": "afd1a811",
   "metadata": {},
   "outputs": [
    {
     "name": "stdout",
     "output_type": "stream",
     "text": [
      "Enter the length in list: 3\n",
      "1\n",
      "2\n",
      "3\n",
      "[1, 3]\n"
     ]
    }
   ],
   "source": [
    "n = int(input(\"Enter the length in list: \"))\n",
    "lst = []\n",
    "lst1 =[]\n",
    "\n",
    "for i in range(n):\n",
    "    lst.append(int(input()))\n",
    "for j in lst:\n",
    "    if j % 2 != 0:\n",
    "        lst1.append(j)\n",
    "print(lst1)"
   ]
  },
  {
   "cell_type": "markdown",
   "id": "57711ea9",
   "metadata": {},
   "source": [
    "9. Write a Python program to Remove empty List from List?"
   ]
  },
  {
   "cell_type": "code",
   "execution_count": 10,
   "id": "2e5e2559",
   "metadata": {},
   "outputs": [
    {
     "name": "stdout",
     "output_type": "stream",
     "text": [
      "The List : [2, [], 4, 5, [], 6, 8, [], 3]\n",
      "The list after removing empty lists\n",
      "[2, 4, 5, 6, 8, 3]\n"
     ]
    }
   ],
   "source": [
    "lst = [2,[],4,5,[],6,8,[],3]\n",
    "print(\"The List :\",lst)\n",
    "removedlist = [ele for ele in lst if ele != []]\n",
    "print(\"The list after removing empty lists\")\n",
    "print(removedlist)"
   ]
  },
  {
   "cell_type": "markdown",
   "id": "d47caec4",
   "metadata": {},
   "source": [
    "10. Write a Python program to Cloning or Copying a list?"
   ]
  },
  {
   "cell_type": "code",
   "execution_count": 11,
   "id": "3e38b4a7",
   "metadata": {},
   "outputs": [
    {
     "name": "stdout",
     "output_type": "stream",
     "text": [
      "Enter the lenth of your list : 3\n",
      "1\n",
      "2\n",
      "3\n",
      "The List is  [1, 2, 3]\n",
      "The cloned/copied list :\n",
      "[1, 2, 3]\n"
     ]
    }
   ],
   "source": [
    "n = int(input(\"Enter the lenth of your list : \"))\n",
    "lst = []\n",
    "\n",
    "for i in range(n):\n",
    "    lst.append(int(input()))\n",
    "print(\"The List is \",lst)\n",
    "\n",
    "print(\"The cloned/copied list :\")\n",
    "\n",
    "lstcopy = lst[:]\n",
    "print(lstcopy)"
   ]
  },
  {
   "cell_type": "markdown",
   "id": "a735296a",
   "metadata": {},
   "source": [
    "11. Write a Python program to Count occurrences of an element in a list?"
   ]
  },
  {
   "cell_type": "code",
   "execution_count": 12,
   "id": "cd03fe9d",
   "metadata": {},
   "outputs": [
    {
     "name": "stdout",
     "output_type": "stream",
     "text": [
      "Enter the lenth of your list : 4\n",
      "1\n",
      "2\n",
      "3\n",
      "4\n",
      "The List is  [1, 2, 3, 4]\n",
      "Enter the element to find its occurence: 3\n",
      "1\n"
     ]
    }
   ],
   "source": [
    "n = int(input(\"Enter the lenth of your list : \"))\n",
    "lst = []\n",
    "\n",
    "for i in range(n):\n",
    "    lst.append(int(input()))\n",
    "print(\"The List is \",lst)\n",
    "ele = int(input(\"Enter the element to find its occurence: \"))\n",
    "print(lst.count(ele))"
   ]
  },
  {
   "cell_type": "code",
   "execution_count": null,
   "id": "90d67720",
   "metadata": {},
   "outputs": [],
   "source": []
  }
 ],
 "metadata": {
  "kernelspec": {
   "display_name": "Python 3 (ipykernel)",
   "language": "python",
   "name": "python3"
  },
  "language_info": {
   "codemirror_mode": {
    "name": "ipython",
    "version": 3
   },
   "file_extension": ".py",
   "mimetype": "text/x-python",
   "name": "python",
   "nbconvert_exporter": "python",
   "pygments_lexer": "ipython3",
   "version": "3.10.9"
  }
 },
 "nbformat": 4,
 "nbformat_minor": 5
}
