{
 "cells": [
  {
   "cell_type": "markdown",
   "id": "edfaf933",
   "metadata": {},
   "source": [
    "1. Create a function that takes a list of non-negative integers and strings and return a new list without the strings."
   ]
  },
  {
   "cell_type": "code",
   "execution_count": 13,
   "id": "92c83889",
   "metadata": {},
   "outputs": [
    {
     "name": "stdout",
     "output_type": "stream",
     "text": [
      "[1, 2]\n"
     ]
    }
   ],
   "source": [
    "lst = [1, 2, \"a\", \"b\"]\n",
    "def filter_list(lst):\n",
    "    lst1 = []\n",
    "    for i in lst:\n",
    "        if type(i) == int:\n",
    "            lst1.append(i)\n",
    "    return lst1\n",
    "print(filter_list(lst))"
   ]
  },
  {
   "cell_type": "markdown",
   "id": "e2c7e1d0",
   "metadata": {},
   "source": [
    "2. The \"Reverser\" takes a string as input and returns that string in reverse order, with the opposite case."
   ]
  },
  {
   "cell_type": "code",
   "execution_count": 16,
   "id": "1f0b6618",
   "metadata": {},
   "outputs": [
    {
     "name": "stdout",
     "output_type": "stream",
     "text": [
      "eSrEvEr\n"
     ]
    }
   ],
   "source": [
    "def reverse(s):\n",
    "    s = s[::-1]\n",
    "    return s.swapcase()\n",
    "print(reverse('ReVeRsE'))"
   ]
  },
  {
   "cell_type": "markdown",
   "id": "8b72c76a",
   "metadata": {},
   "source": [
    "3. You can assign variables from lists like this:\n",
    "lst = [1, 2, 3, 4, 5, 6]\n",
    "first = lst[0]\n",
    "middle = lst[1:-1]\n",
    "last = lst[-1]\n",
    "print(first) ➞ outputs 1\n",
    "print(middle) ➞ outputs [2, 3, 4, 5]\n",
    "print(last) ➞ outputs 6\n",
    "With Python 3, you can assign variables from lists in a much more succinct way. Create variables first, middle and last from the given list using destructuring assignment (check the Resources tab for some examples), where:\n",
    "first ➞ 1\n",
    "middle ➞ [2, 3, 4, 5]\n",
    "last ➞ 6\n",
    "\n",
    "Your task is to unpack the list writeyourcodehere into three variables, being first, middle, and last, with middle being everything in between the first and last element. Then print all three variables."
   ]
  },
  {
   "cell_type": "code",
   "execution_count": 17,
   "id": "9e7e3cb8",
   "metadata": {},
   "outputs": [
    {
     "data": {
      "text/plain": [
       "1"
      ]
     },
     "execution_count": 17,
     "metadata": {},
     "output_type": "execute_result"
    }
   ],
   "source": [
    "lst = [1, 2, 3, 4, 5, 6]\n",
    "first ,*middle,last = lst\n",
    "first"
   ]
  },
  {
   "cell_type": "code",
   "execution_count": 18,
   "id": "f246d619",
   "metadata": {},
   "outputs": [
    {
     "data": {
      "text/plain": [
       "[2, 3, 4, 5]"
      ]
     },
     "execution_count": 18,
     "metadata": {},
     "output_type": "execute_result"
    }
   ],
   "source": [
    "middle"
   ]
  },
  {
   "cell_type": "code",
   "execution_count": 19,
   "id": "2d751879",
   "metadata": {},
   "outputs": [
    {
     "data": {
      "text/plain": [
       "6"
      ]
     },
     "execution_count": 19,
     "metadata": {},
     "output_type": "execute_result"
    }
   ],
   "source": [
    "last"
   ]
  },
  {
   "cell_type": "markdown",
   "id": "eaae0b22",
   "metadata": {},
   "source": [
    "4. Write a function that calculates the factorial of a number recursively.\n",
    "Examples\n",
    "factorial(5) ➞ 120\n",
    "factorial(3) ➞ 6\n",
    "factorial(1) ➞ 1\n",
    "factorial(0) ➞ 1"
   ]
  },
  {
   "cell_type": "code",
   "execution_count": 22,
   "id": "764fe668",
   "metadata": {},
   "outputs": [],
   "source": [
    "def factorial(n):\n",
    "    if n == 0:\n",
    "        return 1\n",
    "    return n * factorial(n-1)"
   ]
  },
  {
   "cell_type": "code",
   "execution_count": 23,
   "id": "74b3d1dc",
   "metadata": {},
   "outputs": [
    {
     "data": {
      "text/plain": [
       "120"
      ]
     },
     "execution_count": 23,
     "metadata": {},
     "output_type": "execute_result"
    }
   ],
   "source": [
    "factorial(5)"
   ]
  },
  {
   "cell_type": "markdown",
   "id": "2f3cf8d7",
   "metadata": {},
   "source": [
    "5. Write a function that moves all elements of one type to the end of the list."
   ]
  },
  {
   "cell_type": "code",
   "execution_count": 24,
   "id": "68786c00",
   "metadata": {},
   "outputs": [],
   "source": [
    "def move_to_end(array, toMove):\n",
    "     \n",
    "    i = 0\n",
    " \n",
    "    # Mark the right pointer\n",
    "    j = len(array) - 1\n",
    "  \n",
    "    # Iterate untill left pointer\n",
    "    # crosses the right pointer\n",
    "    while (i < j):\n",
    "  \n",
    "        while (i < j and array[j] == toMove):\n",
    "  \n",
    "            # decrement right pointer\n",
    "            j-=1\n",
    "  \n",
    "        if (array[i] == toMove):\n",
    "  \n",
    "            # swap the two elements\n",
    "            # in the array\n",
    "            array[i], array[j] = array[j] , array[i]\n",
    "  \n",
    "        # increment left pointer\n",
    "        i += 1\n",
    "  \n",
    "    # return the result\n",
    "    return array"
   ]
  },
  {
   "cell_type": "code",
   "execution_count": 25,
   "id": "205fa416",
   "metadata": {},
   "outputs": [
    {
     "name": "stdout",
     "output_type": "stream",
     "text": [
      "7 8 4 1 2 3 9 "
     ]
    }
   ],
   "source": [
    "arr = [7, 8, 9, 1, 2, 3, 4]\n",
    "k = 9\n",
    "ans = move_to_end(arr, k)\n",
    "for i in range(len(arr)):\n",
    "    print(ans[i] ,end= \" \")"
   ]
  },
  {
   "cell_type": "code",
   "execution_count": null,
   "id": "22e9b180",
   "metadata": {},
   "outputs": [],
   "source": []
  }
 ],
 "metadata": {
  "kernelspec": {
   "display_name": "Python 3 (ipykernel)",
   "language": "python",
   "name": "python3"
  },
  "language_info": {
   "codemirror_mode": {
    "name": "ipython",
    "version": 3
   },
   "file_extension": ".py",
   "mimetype": "text/x-python",
   "name": "python",
   "nbconvert_exporter": "python",
   "pygments_lexer": "ipython3",
   "version": "3.10.9"
  }
 },
 "nbformat": 4,
 "nbformat_minor": 5
}
