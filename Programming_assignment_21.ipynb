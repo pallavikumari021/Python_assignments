{
 "cells": [
  {
   "cell_type": "markdown",
   "id": "2e4db4a3",
   "metadata": {},
   "source": [
    "1. Write a function that takes a list and a number as arguments. Add the number to the end of the list, then remove the first element of the list. The function should then return the updated list."
   ]
  },
  {
   "cell_type": "code",
   "execution_count": 2,
   "id": "d816f8ae",
   "metadata": {},
   "outputs": [],
   "source": [
    "def next_in_line(list, num):\n",
    "    if len(list)> 0:\n",
    "        list.append(num) \n",
    "        return list[1:]\n",
    "    else:\n",
    "        print(\"'No list has been selected'\")\n",
    "        "
   ]
  },
  {
   "cell_type": "code",
   "execution_count": 3,
   "id": "949d3d02",
   "metadata": {},
   "outputs": [
    {
     "data": {
      "text/plain": [
       "[6, 7, 8, 9, 1]"
      ]
     },
     "execution_count": 3,
     "metadata": {},
     "output_type": "execute_result"
    }
   ],
   "source": [
    "next_in_line([5, 6, 7, 8, 9], 1)"
   ]
  },
  {
   "cell_type": "code",
   "execution_count": 4,
   "id": "9f7a5cdc",
   "metadata": {},
   "outputs": [
    {
     "name": "stdout",
     "output_type": "stream",
     "text": [
      "'No list has been selected'\n"
     ]
    }
   ],
   "source": [
    "next_in_line([], 6)"
   ]
  },
  {
   "cell_type": "markdown",
   "id": "5f01e4b2",
   "metadata": {},
   "source": [
    "2. Create the function that takes a list of dictionaries and returns the sum of people's budgets."
   ]
  },
  {
   "cell_type": "code",
   "execution_count": 8,
   "id": "676cd39c",
   "metadata": {},
   "outputs": [],
   "source": [
    "def get_budgets(listdict):\n",
    "    sum = 0\n",
    "    for dc in listdict:\n",
    "        for k, v in dc.items():\n",
    "            if k == 'budget':\n",
    "                sum = sum +v\n",
    "    return sum"
   ]
  },
  {
   "cell_type": "code",
   "execution_count": 9,
   "id": "ba2a1a74",
   "metadata": {},
   "outputs": [
    {
     "data": {
      "text/plain": [
       "65700"
      ]
     },
     "execution_count": 9,
     "metadata": {},
     "output_type": "execute_result"
    }
   ],
   "source": [
    "get_budgets([\n",
    "{ \"name\": \"John\", \"age\": 21, \"budget\": 23000 },\n",
    "{ \"name\": \"Steve\", \"age\": 32,\"budget\": 40000 },\n",
    "{ \"name\": \"Martin\", \"age\": 16, \"budget\": 2700 }\n",
    "])"
   ]
  },
  {
   "cell_type": "markdown",
   "id": "4494bc4e",
   "metadata": {},
   "source": [
    "3. Create a function that takes a string and returns a string with its letters in alphabetical order."
   ]
  },
  {
   "cell_type": "code",
   "execution_count": 10,
   "id": "152a052a",
   "metadata": {},
   "outputs": [],
   "source": [
    "def alphabet_soup(s):\n",
    "    return ''.join(sorted(s))"
   ]
  },
  {
   "cell_type": "code",
   "execution_count": 11,
   "id": "77d7c824",
   "metadata": {},
   "outputs": [
    {
     "data": {
      "text/plain": [
       "'ehllo'"
      ]
     },
     "execution_count": 11,
     "metadata": {},
     "output_type": "execute_result"
    }
   ],
   "source": [
    "alphabet_soup(\"hello\")"
   ]
  },
  {
   "cell_type": "markdown",
   "id": "9873e457",
   "metadata": {},
   "source": [
    "4. Suppose that you invest $10,000 for 10 years at an interest rate of 6% compounded monthly. What will be the value of your investment at the end of the 10 year period?\n",
    "Create a function that accepts the principal p, the term in years t, the interest rate r, and the number of compounding periods per year n. The function returns the value at the end of term rounded to the nearest cent.\n",
    "For the example above:\n",
    "compound_interest(10000, 10, 0.06, 12) ➞ 18193.97\n",
    "Note that the interest rate is given as a decimal and n=12 because with monthly compounding there are 12 periods per year. Compounding can also be done annually, quarterly, weekly, or daily."
   ]
  },
  {
   "cell_type": "code",
   "execution_count": 12,
   "id": "56c2c226",
   "metadata": {},
   "outputs": [],
   "source": [
    "def compound_interest(amt, years, interest, compPeriod ):\n",
    "    future_value = amt * (1 + (interest/compPeriod)) ** (years *  compPeriod)\n",
    "    return round(future_value, 2)"
   ]
  },
  {
   "cell_type": "code",
   "execution_count": 13,
   "id": "0b7574bb",
   "metadata": {},
   "outputs": [
    {
     "data": {
      "text/plain": [
       "105.0"
      ]
     },
     "execution_count": 13,
     "metadata": {},
     "output_type": "execute_result"
    }
   ],
   "source": [
    "compound_interest(100, 1, 0.05, 1)"
   ]
  },
  {
   "cell_type": "markdown",
   "id": "907e1814",
   "metadata": {},
   "source": [
    "5. Write a function that takes a list of elements and returns only the integers."
   ]
  },
  {
   "cell_type": "code",
   "execution_count": 3,
   "id": "75970c8a",
   "metadata": {},
   "outputs": [],
   "source": [
    "def return_only_integer(list):\n",
    "    lst2 = []\n",
    "    for i in list:\n",
    "        if type(i) == int:\n",
    "            lst2.append(i)\n",
    "    return lst2\n",
    "            "
   ]
  },
  {
   "cell_type": "code",
   "execution_count": 4,
   "id": "a85b1da7",
   "metadata": {},
   "outputs": [
    {
     "data": {
      "text/plain": [
       "[9, 2, 16]"
      ]
     },
     "execution_count": 4,
     "metadata": {},
     "output_type": "execute_result"
    }
   ],
   "source": [
    "return_only_integer([9, 2, 'space', 'car', 'lion', 16])"
   ]
  }
 ],
 "metadata": {
  "kernelspec": {
   "display_name": "Python 3 (ipykernel)",
   "language": "python",
   "name": "python3"
  },
  "language_info": {
   "codemirror_mode": {
    "name": "ipython",
    "version": 3
   },
   "file_extension": ".py",
   "mimetype": "text/x-python",
   "name": "python",
   "nbconvert_exporter": "python",
   "pygments_lexer": "ipython3",
   "version": "3.10.9"
  }
 },
 "nbformat": 4,
 "nbformat_minor": 5
}
