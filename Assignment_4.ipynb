{
 "cells": [
  {
   "cell_type": "markdown",
   "id": "9800281d",
   "metadata": {},
   "source": [
    "1. What exactly is []?\n",
    "This defines an empty list."
   ]
  },
  {
   "cell_type": "markdown",
   "id": "7526b730",
   "metadata": {},
   "source": [
    "2. In a list of values stored in a variable called spam, how would you assign the value 'hello' as the third value? (Assume [2, 4, 6, 8, 10] are in spam.)\n",
    "spam.insert(2, 'hello')"
   ]
  },
  {
   "cell_type": "code",
   "execution_count": null,
   "id": "f81c4432",
   "metadata": {},
   "outputs": [],
   "source": [
    "# Let's pretend the spam includes the list ['a', 'b', 'c', 'd'] for the next three queries."
   ]
  },
  {
   "cell_type": "markdown",
   "id": "ea612bc4",
   "metadata": {},
   "source": [
    "3. What is the value of spam[int(int('3' * 2) / 11)]?\n",
    "'d'"
   ]
  },
  {
   "cell_type": "markdown",
   "id": "95cd5e62",
   "metadata": {},
   "source": [
    "4. What is the value of spam[-1]?\n",
    "'d'"
   ]
  },
  {
   "cell_type": "markdown",
   "id": "29035e31",
   "metadata": {},
   "source": [
    "5. What is the value of spam[:2]?\n",
    "['a', 'b']"
   ]
  },
  {
   "cell_type": "code",
   "execution_count": null,
   "id": "c5a35654",
   "metadata": {},
   "outputs": [],
   "source": [
    "# Let's pretend bacon has the list [3.14, 'cat', '11', 'cat', True] for the next three questions."
   ]
  },
  {
   "cell_type": "markdown",
   "id": "e328816b",
   "metadata": {},
   "source": [
    "6. What is the value of bacon.index('cat')?\n",
    "1"
   ]
  },
  {
   "cell_type": "markdown",
   "id": "e3ef1529",
   "metadata": {},
   "source": [
    "7. How does bacon.append(99) change the look of the list value in bacon?\n",
    "[3.14, 'cat', '11', 'cat', True, 99]"
   ]
  },
  {
   "cell_type": "markdown",
   "id": "5a85e155",
   "metadata": {},
   "source": [
    "8. How does bacon.remove('cat') change the look of the list in bacon?\n",
    "[3.14, '11', 'cat', True, 99]"
   ]
  },
  {
   "cell_type": "markdown",
   "id": "be34ec18",
   "metadata": {},
   "source": [
    "9. What are the list concatenation and list replication operators?\n",
    "concatenation - '+'\n",
    "replication - '*'"
   ]
  },
  {
   "cell_type": "markdown",
   "id": "55ead2a1",
   "metadata": {},
   "source": [
    "10. What is difference between the list methods append() and insert()?\n",
    "append() will add values only to the end of a list, insert() can add them anywhere in the list."
   ]
  },
  {
   "cell_type": "markdown",
   "id": "b2bbfd86",
   "metadata": {},
   "source": [
    "11. What are the two methods for removing items from a list?\n",
    "The del statement and the remove() list method are two ways to remove values from a list."
   ]
  },
  {
   "cell_type": "markdown",
   "id": "404cca39",
   "metadata": {},
   "source": [
    "12. Describe how list values and string values are identical.\n",
    "Lists are similar to strings, which are ordered collections of characters."
   ]
  },
  {
   "cell_type": "markdown",
   "id": "046647e1",
   "metadata": {},
   "source": [
    "13. What's the difference between tuples and lists?\n",
    "Lists are mutable collections, they can added, removed and changed. Tuples are immutable, they cannot be changed. Tuples are written within (), and lists within []. "
   ]
  },
  {
   "cell_type": "markdown",
   "id": "07766ac2",
   "metadata": {},
   "source": [
    "14. How do you type a tuple value that only contains the integer 42?\n",
    "tuple=(42)"
   ]
  },
  {
   "cell_type": "markdown",
   "id": "c7b00234",
   "metadata": {},
   "source": [
    "15. How do you get a list value's tuple form? How do you get a tuple value's list form?\n",
    "We can use the tuple() and list() function to pass the full list or tuple as an argument, and it will return the tuple and list as an output."
   ]
  },
  {
   "cell_type": "markdown",
   "id": "3c9645d5",
   "metadata": {},
   "source": [
    "16. Variables that \"contain\" list values are not necessarily lists themselves. Instead, what do they contain?\n",
    "Variables will contain references to list values rather than list values themselves. But for strings and integer values, variables simply contain the string or integer value."
   ]
  },
  {
   "cell_type": "markdown",
   "id": "0e50c262",
   "metadata": {},
   "source": [
    "17. How do you distinguish between copy.copy() and copy.deepcopy()?\n",
    "The copy.copy() function will do a shallow copy of a list, while the copy.deepcopy() function will do a deep copy of a list. That is, only copy.deepcopy() will duplicate any lists inside the list."
   ]
  }
 ],
 "metadata": {
  "kernelspec": {
   "display_name": "Python 3 (ipykernel)",
   "language": "python",
   "name": "python3"
  },
  "language_info": {
   "codemirror_mode": {
    "name": "ipython",
    "version": 3
   },
   "file_extension": ".py",
   "mimetype": "text/x-python",
   "name": "python",
   "nbconvert_exporter": "python",
   "pygments_lexer": "ipython3",
   "version": "3.10.9"
  }
 },
 "nbformat": 4,
 "nbformat_minor": 5
}
