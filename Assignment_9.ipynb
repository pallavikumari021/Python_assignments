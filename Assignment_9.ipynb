{
 "cells": [
  {
   "cell_type": "markdown",
   "id": "bc4d3f08",
   "metadata": {},
   "source": [
    "1. To what does a relative path refer?\n",
    "Relative paths are relative to the current working directory."
   ]
  },
  {
   "cell_type": "markdown",
   "id": "cfae9da6",
   "metadata": {},
   "source": [
    "2. What does an absolute path start with your operating system?\n",
    "An absolute path is the full path starting from the root of the operating file system up until the working directory."
   ]
  },
  {
   "cell_type": "markdown",
   "id": "deb5c841",
   "metadata": {},
   "source": [
    "3. What do the functions os.getcwd() and os.chdir() do?\n",
    "os.getcwd() function will give your current working directory.\n",
    "os.chdir() function is used to change in current working directory path to a new one."
   ]
  },
  {
   "cell_type": "markdown",
   "id": "b9c4ba69",
   "metadata": {},
   "source": [
    "4. What are the . and .. folders?\n",
    ". refers to the current folder and .. refer to the parent folder."
   ]
  },
  {
   "cell_type": "markdown",
   "id": "ca96904e",
   "metadata": {},
   "source": [
    "5. In C:\\bacon\\eggs\\spam.txt, which part is the dir name, and which part is the base name?\n",
    "C:\\bacon\\eggs is the dir name and spam.txt is the base name."
   ]
  },
  {
   "cell_type": "markdown",
   "id": "b19bb1de",
   "metadata": {},
   "source": [
    "6. What are the three “mode” arguments that can be passed to the open() function?\n",
    "read\n",
    "write\n",
    "append"
   ]
  },
  {
   "cell_type": "markdown",
   "id": "955c39a1",
   "metadata": {},
   "source": [
    "7. What happens if an existing file is opened in write mode?\n",
    "If an existing file is opened in write mode then it will be erased and completely overwritten."
   ]
  },
  {
   "cell_type": "markdown",
   "id": "360b6532",
   "metadata": {},
   "source": [
    "8. How do you tell the difference between read() and readlines()?\n",
    "read() method returns the content of the file as a single string value and readlines() method returns the list of the string where each string is the line from the file."
   ]
  },
  {
   "cell_type": "markdown",
   "id": "9216daf3",
   "metadata": {},
   "source": [
    "9. What data structure does a shelf value resemble?\n",
    "A shelf value resembles a dictionary value, it has keys and values, along with keys() and values() methods that work similarly to the dictionary methods of the same names."
   ]
  }
 ],
 "metadata": {
  "kernelspec": {
   "display_name": "Python 3 (ipykernel)",
   "language": "python",
   "name": "python3"
  },
  "language_info": {
   "codemirror_mode": {
    "name": "ipython",
    "version": 3
   },
   "file_extension": ".py",
   "mimetype": "text/x-python",
   "name": "python",
   "nbconvert_exporter": "python",
   "pygments_lexer": "ipython3",
   "version": "3.10.9"
  }
 },
 "nbformat": 4,
 "nbformat_minor": 5
}
