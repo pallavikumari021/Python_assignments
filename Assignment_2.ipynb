{
 "cells": [
  {
   "cell_type": "markdown",
   "id": "da1ca1fa",
   "metadata": {},
   "source": [
    "1.What are the two values of the Boolean data type? How do you write them?\n",
    "A boolean data type has one of the two values: true(1) or false(0). The two values represent the truth conditions found in logic algebra. "
   ]
  },
  {
   "cell_type": "markdown",
   "id": "aeb0f904",
   "metadata": {},
   "source": [
    "2. What are the three different types of Boolean operators?\n",
    "The three boolean operators are \"AND\", \"OR\", and \"NOT\".\n"
   ]
  },
  {
   "attachments": {},
   "cell_type": "markdown",
   "id": "722cdcd3",
   "metadata": {},
   "source": [
    "3. Make a list of each Boolean operator's truth tables (i.e. every possible combination of Boolean values for the operator and what it evaluate ).\n",
    "For NOT:\n",
    " Input           Output\n",
    "  1                0\n",
    "  0                1\n",
    "  \n",
    "For OR:\n",
    " Input           Output\n",
    " 1  1              1\n",
    " 1  0              1\n",
    " 0  1              1\n",
    " 0  0              0\n",
    " \n",
    "For AND:\n",
    " Input           Output\n",
    " 1  1              1\n",
    " 1  0              0\n",
    " 0  1              0\n",
    " 0  0              0"
   ]
  },
  {
   "cell_type": "markdown",
   "id": "aacc27ab",
   "metadata": {},
   "source": [
    "4. What are the values of the following expressions?\n",
    "(5 > 4) and (3 == 5)\n",
    "not (5 > 4)\n",
    "(5 > 4) or (3 == 5)\n",
    "not ((5 > 4) or (3 == 5))\n",
    "(True and True) and (True == False)\n",
    "(not False) or (not True)\n",
    "\n",
    "Ans. \n",
    "False\n",
    "False\n",
    "True\n",
    "False\n",
    "False\n",
    "True\n",
    "\n",
    "\n",
    "     "
   ]
  },
  {
   "cell_type": "code",
   "execution_count": null,
   "id": "02b2d19c",
   "metadata": {},
   "outputs": [],
   "source": [
    "5. What are the six comparison operators?\n",
    "The six comparison operators are:\n",
    "1) == or equal to\n",
    "2) != or not equal to\n",
    "3) > or greater than\n",
    "4) >= or greater than or equal to\n",
    "5) < or less than\n",
    "6) <= or less than or equal to"
   ]
  },
  {
   "cell_type": "markdown",
   "id": "0dd6f2d8",
   "metadata": {},
   "source": [
    "6. How do you tell the difference between the equal to and assignment operators?Describe a condition and when you would use one.\n",
    "(==) operator is used to compare two values. When we have to compare two values that they are equal or not we use equal operator.\n",
    "(=) operator is used to assigning the value into the variable. It is used when we have to assign the space in the memory. We can do it by allocating the value to any variable."
   ]
  },
  {
   "cell_type": "code",
   "execution_count": 8,
   "id": "42b0daba",
   "metadata": {},
   "outputs": [
    {
     "name": "stdout",
     "output_type": "stream",
     "text": [
      "ham\n",
      "spam\n",
      "spam\n"
     ]
    }
   ],
   "source": [
    "7. Identify the three blocks in this code:\n",
    "spam = 0\n",
    "if spam == 10:\n",
    "    print('eggs')\n",
    "if spam > 5:\n",
    "    print('bacon')\n",
    "else:\n",
    "    print('ham')\n",
    "    print('spam')\n",
    "    print('spam')\n",
    "    \n",
    "Ans. Output:\n",
    "ham\n",
    "spam\n",
    "spam"
   ]
  },
  {
   "cell_type": "markdown",
   "id": "c3496d93",
   "metadata": {},
   "source": [
    "8. Write code that prints Hello if 1 is stored in spam, prints Howdy if 2 is stored in spam, and prints Greetings! if anything else is stored in spam."
   ]
  },
  {
   "cell_type": "code",
   "execution_count": 24,
   "id": "2d30d9f2",
   "metadata": {},
   "outputs": [
    {
     "name": "stdout",
     "output_type": "stream",
     "text": [
      "5\n",
      "Greetings!\n"
     ]
    }
   ],
   "source": [
    "spam = int(input())\n",
    "if spam == 1:\n",
    "    print('Hello')\n",
    "if spam == 2:\n",
    "    print('Howdy')\n",
    "if spam > 2:\n",
    "    print('Greetings!')"
   ]
  },
  {
   "cell_type": "markdown",
   "id": "cee4afe3",
   "metadata": {},
   "source": [
    "9.If your programme is stuck in an endless loop, what keys you’ll press?\n",
    "I will press restart button in kernel Or you can press CTRL + C.\n"
   ]
  },
  {
   "cell_type": "markdown",
   "id": "cd7080cf",
   "metadata": {},
   "source": [
    "10. How can you tell the difference between break and continue?\n",
    "Ans. Break statement stops the entire process of the loop. Continue statement only stops the current iteration of the loop. Break also terminates the remaining iterations. Continue doesn't terminate the next iterations; it resumes with the successive iterations."
   ]
  },
  {
   "cell_type": "markdown",
   "id": "7af55ba5",
   "metadata": {},
   "source": [
    "11. In a for loop, what is the difference between range(10), range(0, 10), and range(0, 10, 1)?\n",
    "range(10) - It will generate the data from 0 to 10 excluding 10.\n",
    "range(0, 10) - It will generate the data from 0 to 10 excluding 10.\n",
    "range(0, 10, 1) - It will generate the data from 0 to 10 excluding 10.\n",
    "All 3 will give the same result."
   ]
  },
  {
   "cell_type": "markdown",
   "id": "26520ca0",
   "metadata": {},
   "source": [
    "12. Write a short program that prints the numbers 1 to 10 using a for loop. Then write an equivalent program that prints the numbers 1 to 10 using a while loop."
   ]
  },
  {
   "cell_type": "code",
   "execution_count": 7,
   "id": "2b6d4a3d",
   "metadata": {},
   "outputs": [
    {
     "name": "stdout",
     "output_type": "stream",
     "text": [
      "1\n",
      "2\n",
      "3\n",
      "4\n",
      "5\n",
      "6\n",
      "7\n",
      "8\n",
      "9\n",
      "10\n"
     ]
    }
   ],
   "source": [
    "for i in range(1,11):\n",
    "    print(i)"
   ]
  },
  {
   "cell_type": "code",
   "execution_count": 2,
   "id": "9f957da6",
   "metadata": {},
   "outputs": [
    {
     "name": "stdout",
     "output_type": "stream",
     "text": [
      "1\n",
      "2\n",
      "3\n",
      "4\n",
      "5\n",
      "6\n",
      "7\n",
      "8\n",
      "9\n",
      "10\n"
     ]
    }
   ],
   "source": [
    "i=1\n",
    "while i <= 10:\n",
    "    print(i)\n",
    "    i=i+1"
   ]
  },
  {
   "cell_type": "markdown",
   "id": "f2b9748d",
   "metadata": {},
   "source": [
    "13. If you had a function named bacon() inside a module named spam, how would you call it after importing spam?\n",
    "This function can be called by spam.bacon()."
   ]
  }
 ],
 "metadata": {
  "kernelspec": {
   "display_name": "Python 3 (ipykernel)",
   "language": "python",
   "name": "python3"
  },
  "language_info": {
   "codemirror_mode": {
    "name": "ipython",
    "version": 3
   },
   "file_extension": ".py",
   "mimetype": "text/x-python",
   "name": "python",
   "nbconvert_exporter": "python",
   "pygments_lexer": "ipython3",
   "version": "3.10.9"
  }
 },
 "nbformat": 4,
 "nbformat_minor": 5
}
