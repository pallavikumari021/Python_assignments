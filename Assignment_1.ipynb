{
 "cells": [
  {
   "cell_type": "markdown",
   "id": "924130ca",
   "metadata": {},
   "source": [
    "1. In the below elements which of them are values or an expression? eg:- values can be integer or string and expressions will be mathematical operators.\n",
    "* \n",
    "'hello'\n",
    "-87.8\n",
    "- \n",
    "/ \n",
    "+\t\n",
    "6 \n",
    "\n",
    "Ans. ( 6, -87.8, 'hello')- values\n",
    "     (+, /, -, *) - expressions"
   ]
  },
  {
   "cell_type": "markdown",
   "id": "e2e9e851",
   "metadata": {},
   "source": [
    "2. What is the difference between string and variable?\n",
    "Ans. variable- variable is a reserved memory location to store values. It is a simple container to store different type of data values.\n",
    "String- String is an array of characters or alphabets. strings are immutable in python which means they cannot be changed after they are created.  "
   ]
  },
  {
   "cell_type": "markdown",
   "id": "07646564",
   "metadata": {},
   "source": [
    "3. Describe three different data types.\n",
    "Ans. Three different data types are: \n",
    "Integer(int)- Numeric data types without decimal.\n",
    "Character(char)- single letter, digit, symbol\n",
    "Boolean(bool)- True or false values"
   ]
  },
  {
   "cell_type": "markdown",
   "id": "355af238",
   "metadata": {},
   "source": [
    "4. What is an expression made up of? What do all expressions do?\n",
    "An expression is a combination of variables or integer with mathematical operator. Interpreter evaluates the expression and displays the result."
   ]
  },
  {
   "cell_type": "markdown",
   "id": "38f32e0a",
   "metadata": {},
   "source": [
    "5. This assignment statements, like spam = 10. What is the difference between an expression and a statement?\n",
    "Expression produces a value and that value can be used into the function. Assignment operator assign the value into the variable so assignment statements don't produce a value, and so they can't be used as function arguments.\n"
   ]
  },
  {
   "cell_type": "code",
   "execution_count": 1,
   "id": "f4eaf37f",
   "metadata": {},
   "outputs": [],
   "source": [
    "6. After running the following code, what does the variable bacon contain?\n",
    "bacon = 22\n",
    "bacon + 1\n",
    "Ans. 23"
   ]
  },
  {
   "cell_type": "code",
   "execution_count": null,
   "id": "0d4dfb0c",
   "metadata": {},
   "outputs": [],
   "source": [
    "7. What should the values of the following two terms be?\n",
    "'spam' + 'spamspam'\n",
    "'spam' * 3\n",
    "Ans. 'spamspamspam'"
   ]
  },
  {
   "cell_type": "markdown",
   "id": "f466c334",
   "metadata": {},
   "source": [
    "8. Why is eggs a valid variable name while 100 is invalid?\n",
    "Ans. Because variable names cannot start with number."
   ]
  },
  {
   "cell_type": "markdown",
   "id": "c98f9eb3",
   "metadata": {},
   "source": [
    "9. What three functions can be used to get the integer, floating-point number, or string version of a value?\n",
    "The int(), float(), and str() functions will evaluate to the integer, floating-point number, and string versions of the value passed to them."
   ]
  },
  {
   "cell_type": "code",
   "execution_count": 6,
   "id": "1a751855",
   "metadata": {},
   "outputs": [
    {
     "data": {
      "text/plain": [
       "'I have eaten 99 burritos.'"
      ]
     },
     "execution_count": 6,
     "metadata": {},
     "output_type": "execute_result"
    }
   ],
   "source": [
    "'I have eaten ' + '99' + ' burritos.'"
   ]
  },
  {
   "cell_type": "markdown",
   "id": "5c414e87",
   "metadata": {},
   "source": [
    "10. Why does this expression cause an error? How can you fix it?\n",
    "'I have eaten ' + 99 + ' burritos.'\n",
    "It will give this error 'can only concatenate str (not \"int\") to str\". We can fix it by converting integer value in the string."
   ]
  }
 ],
 "metadata": {
  "kernelspec": {
   "display_name": "Python 3 (ipykernel)",
   "language": "python",
   "name": "python3"
  },
  "language_info": {
   "codemirror_mode": {
    "name": "ipython",
    "version": 3
   },
   "file_extension": ".py",
   "mimetype": "text/x-python",
   "name": "python",
   "nbconvert_exporter": "python",
   "pygments_lexer": "ipython3",
   "version": "3.10.9"
  }
 },
 "nbformat": 4,
 "nbformat_minor": 5
}
