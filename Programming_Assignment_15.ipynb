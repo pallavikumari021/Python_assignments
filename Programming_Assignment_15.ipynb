{
 "cells": [
  {
   "cell_type": "markdown",
   "id": "0a87ac6c",
   "metadata": {},
   "source": [
    "1. Please write a program using generator to print the numbers which can be divisible by 5 and 7 between 0 and n in comma separated form while n is input by console."
   ]
  },
  {
   "cell_type": "code",
   "execution_count": 1,
   "id": "7b85d3e0",
   "metadata": {},
   "outputs": [
    {
     "name": "stdout",
     "output_type": "stream",
     "text": [
      "enter n : 100\n",
      "0,35,70\n"
     ]
    }
   ],
   "source": [
    "def putNumbers(n): \n",
    "    i = 0 \n",
    "    while i < n:\n",
    "        j = i\n",
    "        i += 1 \n",
    "        if j % 7 == 0 and j % 5 == 0:\n",
    "            yield j\n",
    "n = int(input('enter n : '))\n",
    "num =[]\n",
    "for i in putNumbers(n): \n",
    "    num.append(str(i))\n",
    "    \n",
    "print(','.join(num))"
   ]
  },
  {
   "cell_type": "markdown",
   "id": "e2da70cb",
   "metadata": {},
   "source": [
    "2. Please write a program using generator to print the even numbers between 0 and n in comma separated form while n is input by console."
   ]
  },
  {
   "cell_type": "code",
   "execution_count": 4,
   "id": "b0de71dd",
   "metadata": {},
   "outputs": [
    {
     "name": "stdout",
     "output_type": "stream",
     "text": [
      "enter n : 10\n",
      "0,2,4,6,8\n"
     ]
    }
   ],
   "source": [
    "def putNumbers(n):\n",
    "    i = 0\n",
    "    while i < n:\n",
    "        j = i\n",
    "        i += 1\n",
    "        if j % 2 == 0:\n",
    "            yield j\n",
    "n = int(input('enter n : '))\n",
    "num =[]\n",
    "for i in putNumbers(n): \n",
    "    num.append(str(i))\n",
    "    \n",
    "print(','.join(num))"
   ]
  },
  {
   "cell_type": "markdown",
   "id": "6ee56b3a",
   "metadata": {},
   "source": [
    "3. The Fibonacci Sequence is computed based on the following formula:\n",
    "f(n)=0 if n=0\n",
    "f(n)=1 if n=1\n",
    "f(n)=f(n-1)+f(n-2) if n>1\n",
    "Please write a program using list comprehension to print the Fibonacci Sequence in comma separated form with a given n input by console."
   ]
  },
  {
   "cell_type": "code",
   "execution_count": 6,
   "id": "e39f0011",
   "metadata": {},
   "outputs": [
    {
     "name": "stdout",
     "output_type": "stream",
     "text": [
      "Enter the number:7\n",
      "0,1,1,2,3,5,8,13\n"
     ]
    }
   ],
   "source": [
    "def fibo(n):\n",
    "    if n==0:\n",
    "        return 0\n",
    "    elif n ==1:\n",
    "        return 1\n",
    "    else:\n",
    "        return fibo(n-1)+fibo(n-2)\n",
    "n = int(input('Enter the number:'))\n",
    "values = [str(fibo(x)) for x in range(0, n+1)] \n",
    "print(\",\".join(values))"
   ]
  },
  {
   "cell_type": "markdown",
   "id": "1d0ccc08",
   "metadata": {},
   "source": [
    "4. Assuming that we have some email addresses in the 'username@companyname.com' format, please write program to print the user name of a given email address. Both user names and company names are composed of letters only."
   ]
  },
  {
   "cell_type": "code",
   "execution_count": 9,
   "id": "cc64c422",
   "metadata": {},
   "outputs": [
    {
     "name": "stdout",
     "output_type": "stream",
     "text": [
      "Enter the email address: john@google.com\n",
      "john\n",
      "google\n"
     ]
    }
   ],
   "source": [
    "email = input('Enter the email address: ').split('@')\n",
    "company = str(email[1]).split('.')\n",
    "print(email[0])\n",
    "print(company[0])"
   ]
  },
  {
   "cell_type": "markdown",
   "id": "a08fd875",
   "metadata": {},
   "source": [
    "5. Define a class named Shape and its subclass Square. The Square class has an init function which takes a length as argument. Both classes have a area function which can print the area of the shape where Shape's area is 0 by default."
   ]
  },
  {
   "cell_type": "code",
   "execution_count": 10,
   "id": "854cfa1f",
   "metadata": {},
   "outputs": [
    {
     "name": "stdout",
     "output_type": "stream",
     "text": [
      "25\n"
     ]
    }
   ],
   "source": [
    "class Shape(object):\n",
    "    def __init__(self):\n",
    "        pass\n",
    "    \n",
    "    def area(self):\n",
    "        return 0\n",
    "    \n",
    "class Square(Shape):\n",
    "    def __init__(self, l):\n",
    "        Shape.__init__(self)\n",
    "        self.length = l\n",
    "        \n",
    "    def area(self):\n",
    "        return self.length*self.length\n",
    "    \n",
    "objSquare = Square(5)\n",
    "print(objSquare.area())"
   ]
  },
  {
   "cell_type": "markdown",
   "id": "c3be9676",
   "metadata": {},
   "source": []
  }
 ],
 "metadata": {
  "kernelspec": {
   "display_name": "Python 3 (ipykernel)",
   "language": "python",
   "name": "python3"
  },
  "language_info": {
   "codemirror_mode": {
    "name": "ipython",
    "version": 3
   },
   "file_extension": ".py",
   "mimetype": "text/x-python",
   "name": "python",
   "nbconvert_exporter": "python",
   "pygments_lexer": "ipython3",
   "version": "3.10.9"
  }
 },
 "nbformat": 4,
 "nbformat_minor": 5
}
